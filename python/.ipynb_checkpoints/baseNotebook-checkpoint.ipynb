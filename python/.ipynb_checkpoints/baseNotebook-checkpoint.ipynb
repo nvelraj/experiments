{
 "cells": [
  {
   "cell_type": "code",
   "execution_count": null,
   "id": "0d8954ac",
   "metadata": {},
   "outputs": [],
   "source": [
    "import re\n",
    "import string\n",
    "from sentence_transformers import SentenceTransformer\n",
    "\n",
    "model = SentenceTransformer('sentence-transformers/all-MiniLM-L6-v2')"
   ]
  },
  {
   "cell_type": "code",
   "execution_count": null,
   "id": "01b63d36",
   "metadata": {},
   "outputs": [],
   "source": [
    "file_path = '/Users/nvelraj/Desktop/project/medDevices/pdfs/2023/april/K193514.txt'\n",
    "file = open(file_path, 'r')\n",
    "\n",
    "# Read the contents of the file\n",
    "file_contents = file.read()\n",
    "\n",
    "# Close the file\n",
    "file.close()\n",
    "\n",
    "# Print the contents of the file\n",
    "print(file_contents)"
   ]
  },
  {
   "cell_type": "code",
   "execution_count": null,
   "id": "36a6f0cf",
   "metadata": {},
   "outputs": [],
   "source": [
    "def split_text_by_page_numbers(file_contents, pattern):\n",
    "    # Split the text based on page numbers\n",
    "    split_text = re.split(pattern, file_contents)\n",
    "    # Remove empty strings from the split result\n",
    "    split_text = [text.strip() for text in split_text if text.strip()]\n",
    "    # remove multiple empty space characters\n",
    "    split_text = [re.sub(' +', ' ', text) for text in split_text]\n",
    "    meaningful_text = [text for text in split_text if len(text) > 500]\n",
    "    return meaningful_text\n",
    "\n",
    "def trim_long_pages(page, max_page_length):\n",
    "    curr_page_len = len(page)\n",
    "    sub_pages = []\n",
    "    if curr_page_len > max_page_length:\n",
    "        while curr_page_len>max_page_length:\n",
    "            sub_page_final_period_index = page.find(\".\", max_page_length, -1)\n",
    "            if sub_page_final_period_index != -1: \n",
    "                sub_pages.append(page[:sub_page_final_period_index+1])\n",
    "                page = page[sub_page_final_period_index+2:]\n",
    "                curr_page_len = len(page)\n",
    "            else:\n",
    "                sub_pages.append(page[sub_page_final_period_index+1:])\n",
    "                break\n",
    "    else: \n",
    "        sub_pages.append(page)\n",
    "    return sub_pages"
   ]
  },
  {
   "cell_type": "code",
   "execution_count": null,
   "id": "5a3c29b5",
   "metadata": {},
   "outputs": [],
   "source": [
    "pattern = r'Page\\s+(\\d+)\\s+of\\s+(\\d+)'"
   ]
  },
  {
   "cell_type": "code",
   "execution_count": null,
   "id": "3adb4747",
   "metadata": {},
   "outputs": [],
   "source": [
    "meaningful_text = split_text_by_page_numbers(file_contents, pattern)"
   ]
  },
  {
   "cell_type": "code",
   "execution_count": null,
   "id": "befa78fa",
   "metadata": {},
   "outputs": [],
   "source": [
    "doc_summarized_content = []\n",
    "for page in meaningful_text:\n",
    "    sub_pages = trim_long_pages(page, 1500)\n",
    "    summarized_page = []\n",
    "    for sub_page in sub_pages:\n",
    "        summarized_page.append(embeddings = model.encode(sub_page))\n",
    "    doc_summarizeable_content.append(summarized_page)    "
   ]
  },
  {
   "cell_type": "code",
   "execution_count": null,
   "id": "fdf9a120",
   "metadata": {},
   "outputs": [],
   "source": []
  },
  {
   "cell_type": "code",
   "execution_count": null,
   "id": "22d94dad",
   "metadata": {},
   "outputs": [],
   "source": []
  },
  {
   "cell_type": "code",
   "execution_count": null,
   "id": "66d810db",
   "metadata": {},
   "outputs": [],
   "source": []
  },
  {
   "cell_type": "code",
   "execution_count": null,
   "id": "4f415594",
   "metadata": {},
   "outputs": [],
   "source": []
  }
 ],
 "metadata": {
  "kernelspec": {
   "display_name": "Python 3 (ipykernel)",
   "language": "python",
   "name": "python3"
  },
  "language_info": {
   "codemirror_mode": {
    "name": "ipython",
    "version": 3
   },
   "file_extension": ".py",
   "mimetype": "text/x-python",
   "name": "python",
   "nbconvert_exporter": "python",
   "pygments_lexer": "ipython3",
   "version": "3.8.12"
  }
 },
 "nbformat": 4,
 "nbformat_minor": 5
}
